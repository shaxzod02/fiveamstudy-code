{
 "cells": [
  {
   "cell_type": "code",
   "execution_count": 1,
   "id": "5c6fd3cb",
   "metadata": {},
   "outputs": [],
   "source": [
    "true_false = [True, True, False]\n",
    "trues = [True, True, True]"
   ]
  },
  {
   "cell_type": "code",
   "execution_count": 3,
   "id": "e55110fe",
   "metadata": {},
   "outputs": [
    {
     "name": "stdout",
     "output_type": "stream",
     "text": [
      "False\n",
      "True\n"
     ]
    }
   ],
   "source": [
    "print(all(true_false))\n",
    "print(any(true_false))"
   ]
  },
  {
   "cell_type": "code",
   "execution_count": 7,
   "id": "ae427ee4",
   "metadata": {},
   "outputs": [
    {
     "name": "stdout",
     "output_type": "stream",
     "text": [
      "helへっぉlo\n",
      "'hel\\u3078\\u3063\\u3049lo'\n"
     ]
    }
   ],
   "source": [
    "string = \"helへっぉlo\"\n",
    "print(string)\n",
    "print(ascii(string))"
   ]
  },
  {
   "cell_type": "code",
   "execution_count": 26,
   "id": "c6e58622",
   "metadata": {},
   "outputs": [
    {
     "data": {
      "text/plain": [
       "('0b1010', '0b10100', '-0b1', '                1110')"
      ]
     },
     "execution_count": 26,
     "metadata": {},
     "output_type": "execute_result"
    }
   ],
   "source": [
    "bin(10), bin(20), bin(-1), format(14, \"20b\")"
   ]
  },
  {
   "cell_type": "code",
   "execution_count": null,
   "id": "d8ab92bf",
   "metadata": {},
   "outputs": [
    {
     "name": "stdout",
     "output_type": "stream",
     "text": [
      "None is falsy\n",
      "0 fractions are falsy\n",
      "'' and empty collections are falsy\n",
      "123\n"
     ]
    }
   ],
   "source": [
    "if not None:\n",
    "    print(\"None is falsy\")\n",
    "if not 0.000:\n",
    "    print(\"0 fractions are falsy\")\n",
    "if not '':\n",
    "    print(\"'' and empty collections are falsy\")\n",
    "breakpoint()\n"
   ]
  },
  {
   "cell_type": "code",
   "execution_count": null,
   "id": "d076496a",
   "metadata": {},
   "outputs": [],
   "source": [
    "import string\n",
    "dic = {\n",
    "    i: ord(i) for i in string.ascii_lowercase\n",
    "}\n",
    "print(dic)"
   ]
  }
 ],
 "metadata": {
  "kernelspec": {
   "display_name": "Python 3",
   "language": "python",
   "name": "python3"
  },
  "language_info": {
   "codemirror_mode": {
    "name": "ipython",
    "version": 3
   },
   "file_extension": ".py",
   "mimetype": "text/x-python",
   "name": "python",
   "nbconvert_exporter": "python",
   "pygments_lexer": "ipython3",
   "version": "3.10.12"
  }
 },
 "nbformat": 4,
 "nbformat_minor": 5
}
