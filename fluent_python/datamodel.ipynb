{
 "cells": [
  {
   "cell_type": "code",
   "execution_count": 1,
   "id": "6adff203",
   "metadata": {},
   "outputs": [],
   "source": [
    "obj = [1,2,3]"
   ]
  },
  {
   "cell_type": "code",
   "execution_count": 3,
   "id": "ef714c0f",
   "metadata": {},
   "outputs": [
    {
     "data": {
      "text/plain": [
       "1"
      ]
     },
     "execution_count": 3,
     "metadata": {},
     "output_type": "execute_result"
    }
   ],
   "source": [
    "obj[0]"
   ]
  },
  {
   "cell_type": "code",
   "execution_count": 5,
   "id": "825a547b",
   "metadata": {},
   "outputs": [
    {
     "data": {
      "text/plain": [
       "1"
      ]
     },
     "execution_count": 5,
     "metadata": {},
     "output_type": "execute_result"
    }
   ],
   "source": [
    "obj.__getitem__(0)"
   ]
  },
  {
   "cell_type": "code",
   "execution_count": 20,
   "id": "6c73b8e9",
   "metadata": {},
   "outputs": [],
   "source": [
    "import collections\n",
    "\n",
    "Card = collections.namedtuple('Card', ['rank', 'suit'])\n",
    "\n",
    "class FrenchDeck:\n",
    "    ranks = [str(n) for n in range(2, 11)] + list('JQKA')\n",
    "    suits = 'spades diamonds clubs hearts'.split()\n",
    "\n",
    "    def __init__(self):\n",
    "        self._cards = [Card(rank, suit) for suit in self.suits for rank in self.ranks]\n",
    "\n",
    "    def __len__(self):\n",
    "        return len(self._cards)\n",
    "    \n",
    "    def __getitem__(self, x):\n",
    "        return self._cards[x]\n",
    "    \n",
    "\n",
    "deck = FrenchDeck()\n"
   ]
  },
  {
   "cell_type": "code",
   "execution_count": 7,
   "id": "c8a79e90",
   "metadata": {},
   "outputs": [
    {
     "data": {
      "text/plain": [
       "Card(rank='5', suit='spades')"
      ]
     },
     "execution_count": 7,
     "metadata": {},
     "output_type": "execute_result"
    }
   ],
   "source": [
    "deck[3]"
   ]
  },
  {
   "cell_type": "code",
   "execution_count": 21,
   "id": "0114befd",
   "metadata": {},
   "outputs": [
    {
     "name": "stdout",
     "output_type": "stream",
     "text": [
      "Card(rank='J', suit='diamonds')\n",
      "Card(rank='Q', suit='clubs')\n",
      "Card(rank='10', suit='diamonds')\n"
     ]
    }
   ],
   "source": [
    "from random import choice\n",
    "for i in range(3):\n",
    "    print(choice(deck))"
   ]
  },
  {
   "cell_type": "code",
   "execution_count": 22,
   "id": "b52fe67b",
   "metadata": {},
   "outputs": [
    {
     "data": {
      "text/plain": [
       "[Card(rank='2', suit='spades'),\n",
       " Card(rank='3', suit='spades'),\n",
       " Card(rank='4', suit='spades')]"
      ]
     },
     "execution_count": 22,
     "metadata": {},
     "output_type": "execute_result"
    }
   ],
   "source": [
    "deck[:3]"
   ]
  },
  {
   "cell_type": "code",
   "execution_count": 28,
   "id": "20a033e9",
   "metadata": {},
   "outputs": [
    {
     "name": "stdout",
     "output_type": "stream",
     "text": [
      "Card(rank='2', suit='clubs')\n",
      "Card(rank='2', suit='diamonds')\n",
      "Card(rank='2', suit='hearts')\n",
      "Card(rank='2', suit='spades')\n",
      "Card(rank='3', suit='clubs')\n",
      "Card(rank='3', suit='diamonds')\n",
      "Card(rank='3', suit='hearts')\n",
      "Card(rank='3', suit='spades')\n",
      "Card(rank='4', suit='clubs')\n",
      "Card(rank='4', suit='diamonds')\n",
      "Card(rank='4', suit='hearts')\n",
      "Card(rank='4', suit='spades')\n",
      "Card(rank='5', suit='clubs')\n",
      "Card(rank='5', suit='diamonds')\n",
      "Card(rank='5', suit='hearts')\n",
      "Card(rank='5', suit='spades')\n",
      "Card(rank='6', suit='clubs')\n",
      "Card(rank='6', suit='diamonds')\n",
      "Card(rank='6', suit='hearts')\n",
      "Card(rank='6', suit='spades')\n",
      "Card(rank='7', suit='clubs')\n",
      "Card(rank='7', suit='diamonds')\n",
      "Card(rank='7', suit='hearts')\n",
      "Card(rank='7', suit='spades')\n",
      "Card(rank='8', suit='clubs')\n",
      "Card(rank='8', suit='diamonds')\n",
      "Card(rank='8', suit='hearts')\n",
      "Card(rank='8', suit='spades')\n",
      "Card(rank='9', suit='clubs')\n",
      "Card(rank='9', suit='diamonds')\n",
      "Card(rank='9', suit='hearts')\n",
      "Card(rank='9', suit='spades')\n",
      "Card(rank='10', suit='clubs')\n",
      "Card(rank='10', suit='diamonds')\n",
      "Card(rank='10', suit='hearts')\n",
      "Card(rank='10', suit='spades')\n",
      "Card(rank='J', suit='clubs')\n",
      "Card(rank='J', suit='diamonds')\n",
      "Card(rank='J', suit='hearts')\n",
      "Card(rank='J', suit='spades')\n",
      "Card(rank='Q', suit='clubs')\n",
      "Card(rank='Q', suit='diamonds')\n",
      "Card(rank='Q', suit='hearts')\n",
      "Card(rank='Q', suit='spades')\n",
      "Card(rank='K', suit='clubs')\n",
      "Card(rank='K', suit='diamonds')\n",
      "Card(rank='K', suit='hearts')\n",
      "Card(rank='K', suit='spades')\n",
      "Card(rank='A', suit='clubs')\n",
      "Card(rank='A', suit='diamonds')\n",
      "Card(rank='A', suit='hearts')\n",
      "Card(rank='A', suit='spades')\n"
     ]
    }
   ],
   "source": [
    "suit_vals = dict(\n",
    "    spades=3,\n",
    "    hearts=2,\n",
    "    diamonds=1,\n",
    "    clubs=0\n",
    ")\n",
    "\n",
    "def spades_high(card):\n",
    "    rank_value = FrenchDeck.ranks.index(card.rank)\n",
    "    return rank_value * len(suit_vals) + suit_vals[card.suit]\n",
    "\n",
    "for card in sorted(deck, key=spades_high):\n",
    "    print(card)"
   ]
  },
  {
   "cell_type": "code",
   "execution_count": null,
   "id": "7411be38",
   "metadata": {},
   "outputs": [
    {
     "name": "stdout",
     "output_type": "stream",
     "text": [
      "134520939032192 134520939030016\n",
      "[0, 2, 3, 4] [2, 2, 3, 4]\n"
     ]
    }
   ],
   "source": [
    "a = None\n",
    "b = 1\n",
    "c = \"a\"\n",
    "d = [1, 2, 3, 4]\n",
    "e = d[:]\n",
    "e[0] = 0\n",
    "f = d\n",
    "f[0] = 2\n",
    "\n",
    "\n",
    "#print(type(a), type(b), type(c), type(d))\n",
    "print(id(d), id(e), )\n",
    "print(e, d)"
   ]
  },
  {
   "cell_type": "code",
   "execution_count": null,
   "id": "a0800b87",
   "metadata": {},
   "outputs": [
    {
     "name": "stdout",
     "output_type": "stream",
     "text": [
      "134520940459888 11753896 {1.0}\n"
     ]
    },
    {
     "ename": "AttributeError",
     "evalue": "'builtin_function_or_method' object has no attribute '__globals__'",
     "output_type": "error",
     "traceback": [
      "\u001b[31m---------------------------------------------------------------------------\u001b[39m",
      "\u001b[31mAttributeError\u001b[39m                            Traceback (most recent call last)",
      "\u001b[36mCell\u001b[39m\u001b[36m \u001b[39m\u001b[32mIn[14]\u001b[39m\u001b[32m, line 8\u001b[39m\n\u001b[32m      5\u001b[39m c.add(b)\n\u001b[32m      6\u001b[39m \u001b[38;5;28mprint\u001b[39m(\u001b[38;5;28mid\u001b[39m(a), \u001b[38;5;28mid\u001b[39m(b), c)\n\u001b[32m----> \u001b[39m\u001b[32m8\u001b[39m \u001b[38;5;28mprint\u001b[39m(\u001b[38;5;28;43mid\u001b[39;49m\u001b[43m.\u001b[49m\u001b[34;43m__globals__\u001b[39;49m)\n",
      "\u001b[31mAttributeError\u001b[39m: 'builtin_function_or_method' object has no attribute '__globals__'"
     ]
    }
   ],
   "source": [
    "a = 1.0\n",
    "b = 1\n",
    "c = set()\n",
    "c.add(a)\n",
    "c.add(b)\n",
    "print(id(a), id(b), c)"
   ]
  },
  {
   "cell_type": "code",
   "execution_count": 17,
   "id": "74dd9a3a",
   "metadata": {},
   "outputs": [
    {
     "name": "stdout",
     "output_type": "stream",
     "text": [
      "1\n",
      "6\n"
     ]
    }
   ],
   "source": [
    "def inc(a):\n",
    "    print(b)\n",
    "    return a + 1\n",
    "\n",
    "print(inc(5))"
   ]
  },
  {
   "cell_type": "code",
   "execution_count": 19,
   "id": "de0f83a5",
   "metadata": {},
   "outputs": [
    {
     "name": "stdout",
     "output_type": "stream",
     "text": [
      "0\n",
      "0\n"
     ]
    },
    {
     "data": {
      "text/plain": [
       "1"
      ]
     },
     "execution_count": 19,
     "metadata": {},
     "output_type": "execute_result"
    }
   ],
   "source": [
    "class Test:\n",
    "    def inc(self, a):\n",
    "        print(a)\n",
    "        return a + 1\n",
    "\n",
    "a = 0\n",
    "x = Test()\n",
    "x.inc(a)\n",
    "Test.inc(x, a)"
   ]
  },
  {
   "cell_type": "code",
   "execution_count": 7,
   "id": "95b7361c",
   "metadata": {},
   "outputs": [
    {
     "data": {
      "text/plain": [
       "('/usr/lib/python3.12/pathlib.py',\n",
       " '/usr/lib/python3.12/__pycache__/pathlib.cpython-312.pyc',\n",
       " '/usr/lib/python3.12/__pycache__/pathlib.cpython-312.pyc',\n",
       " 'pathlib')"
      ]
     },
     "execution_count": 7,
     "metadata": {},
     "output_type": "execute_result"
    }
   ],
   "source": [
    "import pathlib\n",
    "\n",
    "pathlib.__file__, pathlib.__cached__, pathlib.__spec__.cached, pathlib.__spec__.name"
   ]
  },
  {
   "cell_type": "code",
   "execution_count": 8,
   "id": "3bf9c814",
   "metadata": {},
   "outputs": [
    {
     "data": {
      "text/plain": [
       "'Object-oriented filesystem paths.\\n\\nThis module provides classes to represent abstract paths and concrete\\npaths with operations that have semantics appropriate for different\\noperating systems.\\n'"
      ]
     },
     "execution_count": 8,
     "metadata": {},
     "output_type": "execute_result"
    }
   ],
   "source": [
    "pathlib.__doc__"
   ]
  },
  {
   "cell_type": "code",
   "execution_count": 12,
   "id": "6cc9fced",
   "metadata": {},
   "outputs": [
    {
     "data": {
      "text/plain": [
       "[pathlib.PosixPath, pathlib.WindowsPath]"
      ]
     },
     "execution_count": 12,
     "metadata": {},
     "output_type": "execute_result"
    }
   ],
   "source": [
    "pathlib.Path.__subclasses__()"
   ]
  },
  {
   "cell_type": "code",
   "execution_count": 15,
   "id": "84e240a3",
   "metadata": {},
   "outputs": [
    {
     "data": {
      "text/plain": [
       "(['1a', '2a', '3a', '4a', '1b', '2b', '3b', '4b', '1c', '2c', '3c', '4c'],\n",
       " ['1a', '1b', '1c', '2a', '2b', '2c', '3a', '3b', '3c', '4a', '4b', '4c'])"
      ]
     },
     "execution_count": 15,
     "metadata": {},
     "output_type": "execute_result"
    }
   ],
   "source": [
    "A = [str(a) for a in [1,2,3,4]]\n",
    "B = [\"a\", \"b\", \"c\"]\n",
    "\n",
    "[a + b for b in B for a in A], [a + b for a in A for b in B]"
   ]
  },
  {
   "cell_type": "code",
   "execution_count": 7,
   "id": "514072c9",
   "metadata": {},
   "outputs": [
    {
     "name": "stdout",
     "output_type": "stream",
     "text": [
      "found\n"
     ]
    }
   ],
   "source": [
    "a = [1, \"test\", \"a\", 2, 3, (0,-1)]\n",
    "\n",
    "match a:\n",
    "    case [1, *_]:\n",
    "        print(\"found\")"
   ]
  },
  {
   "cell_type": "code",
   "execution_count": 13,
   "id": "4dfef6d5",
   "metadata": {},
   "outputs": [
    {
     "name": "stdout",
     "output_type": "stream",
     "text": [
      "[1, 3, 5, 7, 9, 11, 13, 15, 17, 19, 21, 23, 25, 27, 29, 31, 33, 35, 37, 39, 41, 43, 45, 47, 49, 51, 53, 55, 57, 59, 61, 63, 65, 67, 69, 71, 73, 75, 77, 79, 81, 83, 85, 87, 89, 91, 93, 95, 97, 99]\n"
     ]
    }
   ],
   "source": [
    "numbers = [i for i in range(101)]\n",
    "tens = slice(10,None,10)\n",
    "odd = slice(1, None, 2)\n",
    "print(numbers[odd])"
   ]
  },
  {
   "cell_type": "code",
   "execution_count": 22,
   "id": "aae58715",
   "metadata": {},
   "outputs": [
    {
     "data": {
      "text/plain": [
       "[([1], 5), ([1], 5), ([1], 5)]"
      ]
     },
     "execution_count": 22,
     "metadata": {},
     "output_type": "execute_result"
    }
   ],
   "source": [
    "a = [([],5)] * 3\n",
    "a[0][0].append(1)\n",
    "a"
   ]
  },
  {
   "cell_type": "code",
   "execution_count": 24,
   "id": "2645cb59",
   "metadata": {},
   "outputs": [
    {
     "name": "stdout",
     "output_type": "stream",
     "text": [
      "128111425342912\n"
     ]
    },
    {
     "data": {
      "text/plain": [
       "((1, 2, 3, 1, 2, 3), 128111425155808)"
      ]
     },
     "execution_count": 24,
     "metadata": {},
     "output_type": "execute_result"
    }
   ],
   "source": [
    "t = (1,2,3)\n",
    "print(id(t))\n",
    "t *= 2\n",
    "t, id(t)\n"
   ]
  },
  {
   "cell_type": "code",
   "execution_count": 27,
   "id": "5672e65a",
   "metadata": {},
   "outputs": [
    {
     "ename": "TypeError",
     "evalue": "'tuple' object does not support item assignment",
     "output_type": "error",
     "traceback": [
      "\u001b[31m---------------------------------------------------------------------------\u001b[39m",
      "\u001b[31mTypeError\u001b[39m                                 Traceback (most recent call last)",
      "\u001b[36mCell\u001b[39m\u001b[36m \u001b[39m\u001b[32mIn[27]\u001b[39m\u001b[32m, line 2\u001b[39m\n\u001b[32m      1\u001b[39m t1 = (\u001b[32m1\u001b[39m,\u001b[32m2\u001b[39m,[\u001b[32m30\u001b[39m, \u001b[32m40\u001b[39m])\n\u001b[32m----> \u001b[39m\u001b[32m2\u001b[39m \u001b[43mt1\u001b[49m\u001b[43m[\u001b[49m\u001b[32;43m2\u001b[39;49m\u001b[43m]\u001b[49m += [\u001b[32m50\u001b[39m,\u001b[32m60\u001b[39m]\n\u001b[32m      3\u001b[39m t1\n",
      "\u001b[31mTypeError\u001b[39m: 'tuple' object does not support item assignment"
     ]
    }
   ],
   "source": [
    "t1 = (1,2,[30, 40])\n",
    "t1[2] += [50,60]\n",
    "t1"
   ]
  },
  {
   "cell_type": "code",
   "execution_count": 37,
   "id": "67cf812d",
   "metadata": {},
   "outputs": [
    {
     "name": "stdout",
     "output_type": "stream",
     "text": [
      "<memory at 0x748443ed18a0>\n",
      "<memory at 0x748443ebae30>\n"
     ]
    }
   ],
   "source": [
    "import array\n",
    "arr = array.array('B', (i for i in range(100)))\n",
    "mv = memoryview(arr)\n",
    "print(mv.cast('B', [2,50]))\n",
    "print(mv.cast('B', [2,2,25]))"
   ]
  },
  {
   "cell_type": "code",
   "execution_count": 44,
   "id": "862b4880",
   "metadata": {},
   "outputs": [
    {
     "ename": "TypeError",
     "evalue": "list indices must be integers or slices, not tuple",
     "output_type": "error",
     "traceback": [
      "\u001b[31m---------------------------------------------------------------------------\u001b[39m",
      "\u001b[31mTypeError\u001b[39m                                 Traceback (most recent call last)",
      "\u001b[36mCell\u001b[39m\u001b[36m \u001b[39m\u001b[32mIn[44]\u001b[39m\u001b[32m, line 3\u001b[39m\n\u001b[32m      1\u001b[39m t = [[]] * \u001b[32m3\u001b[39m\n\u001b[32m      2\u001b[39m t[\u001b[32m0\u001b[39m].append(\u001b[32m1\u001b[39m)\n\u001b[32m----> \u001b[39m\u001b[32m3\u001b[39m \u001b[43mt\u001b[49m\u001b[43m[\u001b[49m\u001b[32;43m1\u001b[39;49m\u001b[43m,\u001b[49m\u001b[32;43m1\u001b[39;49m\u001b[43m]\u001b[49m\n",
      "\u001b[31mTypeError\u001b[39m: list indices must be integers or slices, not tuple"
     ]
    }
   ],
   "source": [
    "t = [[]] * 3\n",
    "t[0].append(1)\n",
    "t[1,1]"
   ]
  },
  {
   "cell_type": "code",
   "execution_count": 2,
   "id": "6b982f60",
   "metadata": {},
   "outputs": [
    {
     "data": {
      "text/plain": [
       "deque([5, 6, 7, 8, 9, 10, 11, 12, 13, 14], maxlen=10)"
      ]
     },
     "execution_count": 2,
     "metadata": {},
     "output_type": "execute_result"
    }
   ],
   "source": [
    "from collections import deque\n",
    "dq = deque(range(15), maxlen=10)\n",
    "dq"
   ]
  },
  {
   "cell_type": "code",
   "execution_count": 6,
   "id": "ab4e04c3",
   "metadata": {},
   "outputs": [
    {
     "name": "stdout",
     "output_type": "stream",
     "text": [
      "deque([9, 10, 11, 12, 13, 14, 10, 10, 10, 10], maxlen=10)\n"
     ]
    }
   ],
   "source": [
    "dq.append(10)\n",
    "print(dq)\n",
    "if 112 in dq:\n",
    "    print(True)"
   ]
  },
  {
   "cell_type": "code",
   "execution_count": 10,
   "id": "3817d46f",
   "metadata": {},
   "outputs": [
    {
     "name": "stdout",
     "output_type": "stream",
     "text": [
      "128527565014848\n",
      "128527565014848\n"
     ]
    }
   ],
   "source": [
    "a = dict(\n",
    "    a=5,\n",
    "    b=10,\n",
    "    c=2\n",
    ")\n",
    "\n",
    "b = dict(\n",
    "    a=11,\n",
    "    d=20,\n",
    "    z=1\n",
    ")\n",
    "print(id(a))\n",
    "a |= b\n",
    "print(id(a))"
   ]
  },
  {
   "cell_type": "code",
   "execution_count": 12,
   "id": "03ea5bf9",
   "metadata": {},
   "outputs": [
    {
     "data": {
      "text/plain": [
       "(True, False)"
      ]
     },
     "execution_count": 12,
     "metadata": {},
     "output_type": "execute_result"
    }
   ],
   "source": [
    "from collections import abc\n",
    "\n",
    "my_dict = {}\n",
    "my_list = []\n",
    "isinstance(my_dict, abc.Mapping), isinstance(my_list, abc.Mapping)"
   ]
  },
  {
   "cell_type": "code",
   "execution_count": 21,
   "id": "b202baab",
   "metadata": {},
   "outputs": [
    {
     "data": {
      "text/plain": [
       "(128528174167024, 128528174167024, -5873715683612507940, -5873715683612507940)"
      ]
     },
     "execution_count": 21,
     "metadata": {},
     "output_type": "execute_result"
    }
   ],
   "source": [
    "s = \"hello\"\n",
    "id(s), id(\"hello\"), hash(s), s.__hash__()"
   ]
  },
  {
   "cell_type": "code",
   "execution_count": 1,
   "id": "a2e2955c",
   "metadata": {},
   "outputs": [
    {
     "data": {
      "text/plain": [
       "(127555070719344, 127555070719344, -7717568661357080549, -7717568661357080549)"
      ]
     },
     "execution_count": 1,
     "metadata": {},
     "output_type": "execute_result"
    }
   ],
   "source": [
    "s = \"hello\"\n",
    "id(s), id(\"hello\"), hash(s), s.__hash__()"
   ]
  },
  {
   "cell_type": "code",
   "execution_count": 12,
   "id": "052aa2f1",
   "metadata": {},
   "outputs": [
    {
     "data": {
      "text/plain": [
       "(0, 0)"
      ]
     },
     "execution_count": 12,
     "metadata": {},
     "output_type": "execute_result"
    }
   ],
   "source": [
    "from collections import defaultdict\n",
    "\n",
    "dd = defaultdict(lambda: 0)\n",
    "\n",
    "dd.__missing__(3), dd[3]"
   ]
  },
  {
   "cell_type": "code",
   "execution_count": 28,
   "id": "7d5894cd",
   "metadata": {},
   "outputs": [
    {
     "data": {
      "text/plain": [
       "(0, 0, None, dict_keys)"
      ]
     },
     "execution_count": 28,
     "metadata": {},
     "output_type": "execute_result"
    }
   ],
   "source": [
    "class myDict(dict):\n",
    "    def __missing__(self, x):\n",
    "        return 0\n",
    "    \n",
    "dd = myDict()\n",
    "\n",
    "dd[1], dd[123], dd.get(1), type(dd.keys())"
   ]
  },
  {
   "cell_type": "code",
   "execution_count": 29,
   "id": "5b5ae59b",
   "metadata": {},
   "outputs": [
    {
     "data": {
      "text/plain": [
       "(0, 0, None, collections.abc.KeysView)"
      ]
     },
     "execution_count": 29,
     "metadata": {},
     "output_type": "execute_result"
    }
   ],
   "source": [
    "from collections import UserDict\n",
    "\n",
    "class myDict(UserDict):\n",
    "    def __missing__(self, x):\n",
    "        return 0\n",
    "    \n",
    "dd = myDict()\n",
    "\n",
    "dd[1], dd[123], dd.get(1), type(dd.keys())"
   ]
  },
  {
   "cell_type": "code",
   "execution_count": 33,
   "id": "cb9c7862",
   "metadata": {},
   "outputs": [
    {
     "data": {
      "text/plain": [
       "ItemsView({1: 'a'})"
      ]
     },
     "execution_count": 33,
     "metadata": {},
     "output_type": "execute_result"
    }
   ],
   "source": [
    "keys = dd.items()\n",
    "dd[1] = \"a\"\n",
    "keys\n"
   ]
  },
  {
   "cell_type": "code",
   "execution_count": null,
   "id": "b96231b8",
   "metadata": {},
   "outputs": [
    {
     "ename": "TypeError",
     "evalue": "'NoneType' object is not callable",
     "output_type": "error",
     "traceback": [
      "\u001b[31m---------------------------------------------------------------------------\u001b[39m",
      "\u001b[31mTypeError\u001b[39m                                 Traceback (most recent call last)",
      "\u001b[36mCell\u001b[39m\u001b[36m \u001b[39m\u001b[32mIn[7]\u001b[39m\u001b[32m, line 4\u001b[39m\n\u001b[32m      1\u001b[39m d = \u001b[38;5;28mdict\u001b[39m(\n\u001b[32m      2\u001b[39m     a=[\u001b[32m1\u001b[39m]\n\u001b[32m      3\u001b[39m )\n\u001b[32m----> \u001b[39m\u001b[32m4\u001b[39m d, d.items(), \u001b[43m[\u001b[49m\u001b[32;43m1\u001b[39;49m\u001b[43m]\u001b[49m\u001b[43m.\u001b[49m\u001b[34;43m__hash__\u001b[39;49m\u001b[43m(\u001b[49m\u001b[43m)\u001b[49m\n",
      "\u001b[31mTypeError\u001b[39m: 'NoneType' object is not callable"
     ]
    }
   ],
   "source": [
    "d = dict(\n",
    "    a=[1]\n",
    ")\n",
    "d, d.items()"
   ]
  }
 ],
 "metadata": {
  "kernelspec": {
   "display_name": ".venv",
   "language": "python",
   "name": "python3"
  },
  "language_info": {
   "codemirror_mode": {
    "name": "ipython",
    "version": 3
   },
   "file_extension": ".py",
   "mimetype": "text/x-python",
   "name": "python",
   "nbconvert_exporter": "python",
   "pygments_lexer": "ipython3",
   "version": "3.12.3"
  }
 },
 "nbformat": 4,
 "nbformat_minor": 5
}
