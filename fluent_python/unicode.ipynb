{
 "cells": [
  {
   "cell_type": "code",
   "execution_count": null,
   "id": "88524742",
   "metadata": {},
   "outputs": [],
   "source": [
    "c = '''Hello\n",
    ", '世'\"界\"'''\n",
    "d = 'abcd'"
   ]
  },
  {
   "cell_type": "code",
   "execution_count": null,
   "id": "a7b8f41f",
   "metadata": {},
   "outputs": [
    {
     "data": {
      "text/plain": [
       "False"
      ]
     },
     "execution_count": 27,
     "metadata": {},
     "output_type": "execute_result"
    }
   ],
   "source": [
    "c.isascii(), d.isascii()"
   ]
  },
  {
   "cell_type": "code",
   "execution_count": 15,
   "id": "eaf0b548",
   "metadata": {},
   "outputs": [
    {
     "data": {
      "text/plain": [
       "b'Hello\\n, \\'\\xe4\\xb8\\x96\\'\"\\xe7\\x95\\x8c\"'"
      ]
     },
     "execution_count": 15,
     "metadata": {},
     "output_type": "execute_result"
    }
   ],
   "source": [
    "c.encode('utf8')"
   ]
  },
  {
   "cell_type": "code",
   "execution_count": 24,
   "id": "eccacdbe",
   "metadata": {},
   "outputs": [
    {
     "data": {
      "text/plain": [
       "(b'test string', b'\\x014\\x03;X\\xdd\\xb8')"
      ]
     },
     "execution_count": 24,
     "metadata": {},
     "output_type": "execute_result"
    }
   ],
   "source": [
    "s1 = \"test string\"\n",
    "s2 = [1,52,3,59,88, 221, 184]\n",
    "\n",
    "bytes(s1, encoding=\"u8\"), bytes(s2)"
   ]
  },
  {
   "cell_type": "code",
   "execution_count": 26,
   "id": "f3a30252",
   "metadata": {},
   "outputs": [
    {
     "name": "stdout",
     "output_type": "stream",
     "text": [
      "latin_1\tb'El Ni\\xf1o'\n",
      "u8\tb'El Ni\\xc3\\xb1o'\n",
      "u16\tb'\\xff\\xfeE\\x00l\\x00 \\x00N\\x00i\\x00\\xf1\\x00o\\x00'\n"
     ]
    }
   ],
   "source": [
    "codecs = ['latin_1', 'u8', 'u16']\n",
    "\n",
    "for codec in codecs:\n",
    "    print(codec, 'El Niño'.encode(encoding=codec), sep=\"\\t\")"
   ]
  }
 ],
 "metadata": {
  "kernelspec": {
   "display_name": ".venv",
   "language": "python",
   "name": "python3"
  },
  "language_info": {
   "codemirror_mode": {
    "name": "ipython",
    "version": 3
   },
   "file_extension": ".py",
   "mimetype": "text/x-python",
   "name": "python",
   "nbconvert_exporter": "python",
   "pygments_lexer": "ipython3",
   "version": "3.12.3"
  }
 },
 "nbformat": 4,
 "nbformat_minor": 5
}
